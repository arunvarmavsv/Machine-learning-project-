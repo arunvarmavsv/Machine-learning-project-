{
 "cells": [
  {
   "cell_type": "markdown",
   "id": "bc222702",
   "metadata": {},
   "source": [
    "Project - 2"
   ]
  },
  {
   "cell_type": "markdown",
   "id": "de58ed51",
   "metadata": {},
   "source": [
    "Name: S V Arun Varma Vanaparthi"
   ]
  },
  {
   "cell_type": "code",
   "execution_count": 6,
   "id": "a7987332",
   "metadata": {},
   "outputs": [
    {
     "name": "stdout",
     "output_type": "stream",
     "text": [
      "Index(['plate', 'longitude', 'latitude', 'time', 'status'], dtype='object')\n",
      "Combined DataFrame:\n",
      "        plate   longitude   latitude                 time  status\n",
      "0           0  114.117165  22.539667  2016-07-01 00:00:03     1.0\n",
      "1           4  114.035202  22.524950  2016-07-01 00:00:05     1.0\n",
      "2           2  114.099480  22.546101  2016-07-01 00:00:09     0.0\n",
      "3           1  113.993118  22.532232  2016-07-01 00:00:09     1.0\n",
      "4           3  114.098465  22.569651  2016-07-01 00:00:13     1.0\n",
      "...       ...         ...        ...                  ...     ...\n",
      "4187008     2  114.036613  22.593834  2016-12-26 23:59:46     1.0\n",
      "4187009     1  114.139336  22.579399  2016-12-26 23:59:49     0.0\n",
      "4187010     4  114.064598  22.521799  2016-12-26 23:59:53     1.0\n",
      "4187011     0  114.090248  22.558416  2016-12-26 23:59:55     1.0\n",
      "4187012     3  114.118484  22.537683  2016-12-26 23:59:56     0.0\n",
      "\n",
      "[4187013 rows x 5 columns]\n"
     ]
    }
   ],
   "source": [
    "import pandas as pd\n",
    "import numpy as np\n",
    "import os\n",
    "import matplotlib.pyplot as plt\n",
    "from sklearn.model_selection import train_test_split\n",
    "from sklearn.preprocessing import StandardScaler\n",
    "from sklearn.metrics import accuracy_score\n",
    "from tensorflow.keras.models import Sequential\n",
    "from tensorflow.keras.layers import Dense\n",
    "\n",
    "# Specify the directory where your CSV files are located\n",
    "csv_directory = 'C:/Users/arunv/Downloads/data_5drivers/data_5drivers'  # Replace with the actual directory path\n",
    "\n",
    "# Initialize an empty list to store DataFrames from each CSV file\n",
    "dataframes = []\n",
    "\n",
    "# Iterate through all files in the directory and read each CSV file into a DataFrame\n",
    "for filename in os.listdir(csv_directory):\n",
    "    if filename.endswith('.csv'):\n",
    "        file_path = os.path.join(csv_directory, filename)\n",
    "        data = pd.read_csv(file_path)\n",
    "        dataframes.append(data)\n",
    "\n",
    "# Concatenate all DataFrames into one\n",
    "combined_data = pd.concat(dataframes, ignore_index=True)\n",
    "\n",
    "# Display column names to identify the correct names\n",
    "print(combined_data.columns)\n",
    "\n",
    "# Print the loaded DataFrame\n",
    "print(\"Combined DataFrame:\")\n",
    "print(combined_data)\n",
    "\n",
    "\n"
   ]
  },
  {
   "cell_type": "code",
   "execution_count": 5,
   "id": "d81785ee",
   "metadata": {},
   "outputs": [
    {
     "name": "stdout",
     "output_type": "stream",
     "text": [
      "Epoch 1/10\n",
      "94208/94208 [==============================] - 118s 1ms/step - loss: 0.6648 - accuracy: 0.5755 - val_loss: 1.4179 - val_accuracy: 0.5790\n",
      "Epoch 2/10\n",
      "94208/94208 [==============================] - 119s 1ms/step - loss: 0.6576 - accuracy: 0.5836 - val_loss: 1.3122 - val_accuracy: 0.5858\n",
      "Epoch 3/10\n",
      "94208/94208 [==============================] - 475s 5ms/step - loss: 0.6537 - accuracy: 0.5895 - val_loss: 1.6356 - val_accuracy: 0.5913\n",
      "Epoch 4/10\n",
      "94208/94208 [==============================] - 179s 2ms/step - loss: 0.6515 - accuracy: 0.5923 - val_loss: 1.8386 - val_accuracy: 0.5944\n",
      "Epoch 5/10\n",
      "94208/94208 [==============================] - 168s 2ms/step - loss: 0.6497 - accuracy: 0.5943 - val_loss: 3.0016 - val_accuracy: 0.5937\n",
      "Epoch 6/10\n",
      "94208/94208 [==============================] - 250s 3ms/step - loss: 0.6473 - accuracy: 0.5979 - val_loss: 4.9217 - val_accuracy: 0.5971\n",
      "Epoch 7/10\n",
      "94208/94208 [==============================] - 229s 2ms/step - loss: 0.6456 - accuracy: 0.5996 - val_loss: 8.1507 - val_accuracy: 0.5985\n",
      "Epoch 8/10\n",
      "94208/94208 [==============================] - 178s 2ms/step - loss: 0.6441 - accuracy: 0.6014 - val_loss: 10.6084 - val_accuracy: 0.6045\n",
      "Epoch 9/10\n",
      "94208/94208 [==============================] - 142s 2ms/step - loss: 0.6430 - accuracy: 0.6029 - val_loss: 10.9942 - val_accuracy: 0.6067\n",
      "Epoch 10/10\n",
      "94208/94208 [==============================] - 124s 1ms/step - loss: 0.6421 - accuracy: 0.6039 - val_loss: 12.9388 - val_accuracy: 0.6030\n",
      "26169/26169 [==============================] - 25s 947us/step\n",
      "Test accuracy: 0.6021330231680565\n"
     ]
    }
   ],
   "source": [
    "# Preprocessing\n",
    "X = combined_data[['longitude', 'latitude']].values \n",
    "y = combined_data['status'].values\n",
    "\n",
    "# Standardize the features\n",
    "scaler = StandardScaler()\n",
    "X = scaler.fit_transform(X)\n",
    "\n",
    "# Model architecture\n",
    "model = Sequential([\n",
    "    Dense(128, activation='relu', input_shape=(X.shape[1],)),\n",
    "    Dense(64, activation='relu'),\n",
    "    Dense(1, activation='sigmoid')  # Binary classification for 'status'\n",
    "])\n",
    "\n",
    "# Compile the model\n",
    "model.compile(loss='binary_crossentropy', optimizer='adam', metrics=['accuracy'])\n",
    "\n",
    "# Split the data into training and testing sets\n",
    "X_train, X_test, y_train, y_test = train_test_split(X, y, test_size=0.2, random_state=42)\n",
    "\n",
    "# Model training\n",
    "model.fit(X_train, y_train, epochs=10, batch_size=32, validation_split=0.1)\n",
    "\n",
    "# Model evaluation\n",
    "y_pred = (model.predict(X_test) > 0.5).astype(int).flatten()\n",
    "accuracy = accuracy_score(y_test, y_pred)\n",
    "print('Test accuracy:', accuracy)\n"
   ]
  },
  {
   "cell_type": "code",
   "execution_count": 22,
   "id": "53ec1765",
   "metadata": {},
   "outputs": [
    {
     "data": {
      "image/png": "[encoded data removed]",
      "text/plain": [
       "<Figure size 400x400 with 1 Axes>"
      ]
     },
     "metadata": {},
     "output_type": "display_data"
    }
   ],
   "source": [
    "from sklearn.metrics import accuracy_score, confusion_matrix\n",
    "import matplotlib.pyplot as plt\n",
    "import seaborn as sns\n",
    "plt.figure(figsize=(4, 4))\n",
    "sns.heatmap(conf_matrix, annot=True, fmt='d', cmap='Blues', cbar=False)\n",
    "plt.xlabel('Predicted')\n",
    "plt.ylabel('True')\n",
    "plt.title('Confusion Matrix')\n",
    "plt.show()\n"
   ]
  },
  {
   "cell_type": "code",
   "execution_count": 23,
   "id": "747a1c03",
   "metadata": {},
   "outputs": [
    {
     "name": "stdout",
     "output_type": "stream",
     "text": [
      "26169/26169 [==============================] - 24s 909us/step\n"
     ]
    },
    {
     "data": {
      "image/png": "[encoded data removed]",
      "text/plain": [
       "<Figure size 400x400 with 1 Axes>"
      ]
     },
     "metadata": {},
     "output_type": "display_data"
    },
    {
     "name": "stdout",
     "output_type": "stream",
     "text": [
      "Average Precision Score: 0.5734861723287158\n"
     ]
    }
   ],
   "source": [
    "from sklearn.metrics import precision_recall_curve, average_precision_score\n",
    "\n",
    "# Get probability scores from the model\n",
    "y_pred_prob = model.predict(X_test)\n",
    "\n",
    "# Flatten the probability scores if needed\n",
    "y_pred_prob = y_pred_prob.flatten()\n",
    "\n",
    "# Calculate precision-recall curve\n",
    "precision, recall, _ = precision_recall_curve(y_test, y_pred_prob)\n",
    "\n",
    "# Plot precision-recall curve\n",
    "plt.figure(figsize=(4, 4))\n",
    "plt.plot(recall, precision, lw=2)\n",
    "plt.xlabel('Recall')\n",
    "plt.ylabel('Precision')\n",
    "plt.title('Precision-Recall Curve')\n",
    "plt.show()\n",
    "\n",
    "# Calculate average precision score\n",
    "avg_precision = average_precision_score(y_test, y_pred_prob)\n",
    "print('Average Precision Score:', avg_precision)\n"
   ]
  }
 ],
 "metadata": {
  "kernelspec": {
   "display_name": "Python 3 (ipykernel)",
   "language": "python",
   "name": "python3"
  },
  "language_info": {
   "codemirror_mode": {
    "name": "ipython",
    "version": 3
   },
   "file_extension": ".py",
   "mimetype": "text/x-python",
   "name": "python",
   "nbconvert_exporter": "python",
   "pygments_lexer": "ipython3",
   "version": "3.10.7"
  }
 },
 "nbformat": 4,
 "nbformat_minor": 5
}
